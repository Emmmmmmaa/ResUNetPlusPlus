{
 "cells": [
  {
   "cell_type": "markdown",
   "metadata": {},
   "source": [
    "instruction: some testing code \n",
    "\n",
    "creator: ruyiyang\n",
    "\n",
    "time: 2025.01"
   ]
  },
  {
   "cell_type": "code",
   "execution_count": 1,
   "metadata": {},
   "outputs": [
    {
     "name": "stderr",
     "output_type": "stream",
     "text": [
      "C:\\Users\\YANGRUYI\\AppData\\Local\\Temp\\ipykernel_14924\\4120138910.py:7: DeprecationWarning: Please import `rotate` from the `scipy.ndimage` namespace; the `scipy.ndimage.interpolation` namespace is deprecated and will be removed in SciPy 2.0.0.\n",
      "  from scipy.ndimage.interpolation import rotate\n"
     ]
    }
   ],
   "source": [
    "import os\n",
    "import random\n",
    "\n",
    "import numpy as np\n",
    "import cv2\n",
    "from glob import glob\n",
    "from scipy.ndimage.interpolation import rotate\n",
    "from tqdm import tqdm\n",
    "from sklearn.model_selection import train_test_split"
   ]
  },
  {
   "cell_type": "code",
   "execution_count": 2,
   "metadata": {},
   "outputs": [
    {
     "name": "stdout",
     "output_type": "stream",
     "text": [
      "2.18.0\n"
     ]
    },
    {
     "data": {
      "text/plain": [
       "[PhysicalDevice(name='/physical_device:CPU:0', device_type='CPU')]"
      ]
     },
     "execution_count": 2,
     "metadata": {},
     "output_type": "execute_result"
    }
   ],
   "source": [
    "import tensorflow as tf\n",
    "print(tf.__version__)\n",
    "tf.config.list_physical_devices()  # 列出可用设备"
   ]
  },
  {
   "cell_type": "code",
   "execution_count": 3,
   "metadata": {},
   "outputs": [
    {
     "name": "stdout",
     "output_type": "stream",
     "text": [
      "True\n",
      "2.5.1+cu118\n"
     ]
    }
   ],
   "source": [
    "import torch\n",
    "print(torch.cuda.is_available())  # 检查是否有可用的 GPU\n",
    "print(torch.__version__)  # 检查 PyTorch 版本"
   ]
  },
  {
   "cell_type": "code",
   "execution_count": 4,
   "metadata": {},
   "outputs": [
    {
     "name": "stdout",
     "output_type": "stream",
     "text": [
      "nvcc: NVIDIA (R) Cuda compiler driver\n",
      "Copyright (c) 2005-2022 NVIDIA Corporation\n",
      "Built on Wed_Sep_21_10:41:10_Pacific_Daylight_Time_2022\n",
      "Cuda compilation tools, release 11.8, V11.8.89\n",
      "Build cuda_11.8.r11.8/compiler.31833905_0\n"
     ]
    }
   ],
   "source": [
    "!nvcc --version"
   ]
  },
  {
   "cell_type": "code",
   "execution_count": 5,
   "metadata": {},
   "outputs": [
    {
     "name": "stdout",
     "output_type": "stream",
     "text": [
      "data/Kvasir-SEG\n"
     ]
    }
   ],
   "source": [
    "path = 'data/'\n",
    "dataset_name = \"Kvasir-SEG\"\n",
    "full_path = os.path.join(path, dataset_name)\n",
    "print(full_path)\n",
    "\n"
   ]
  },
  {
   "cell_type": "code",
   "execution_count": 6,
   "metadata": {},
   "outputs": [
    {
     "name": "stdout",
     "output_type": "stream",
     "text": [
      "The folder contains images.\n"
     ]
    }
   ],
   "source": [
    "# Check if the folder contains images\n",
    "images = glob(os.path.join(full_path, \"images/\", \"*\"))\n",
    "if len(images) > 0:\n",
    "    print(\"The folder contains images.\")\n",
    "else:\n",
    "    print(\"The folder does not contain any images.\")"
   ]
  },
  {
   "cell_type": "code",
   "execution_count": null,
   "metadata": {},
   "outputs": [],
   "source": [
    "if __name__ == '__main__':\n",
    "    # 确保路径正确\n",
    "    print(\"Full Path Exists:\", os.path.exists(full_path))\n",
    "    print(\"Images Path Exists:\", os.path.exists(os.path.join(full_path, \"images/\")))\n",
    "    print(\"Masks Path Exists:\", os.path.exists(os.path.join(full_path, \"masks/\")))\n",
    "\n",
    "    # 确保数据读取成功\n",
    "    if images and masks:\n",
    "        print(\"Total Images:\", len(images))\n",
    "        print(\"Total Masks:\", len(masks))\n",
    "        image = read_image(images[0])\n",
    "        mask = read_image(masks[0], grayscale=True)\n",
    "        print(\"Sample Image Shape:\", None if image is None else image.shape)\n",
    "        print(\"Sample Mask Shape:\", None if mask is None else mask.shape)\n",
    "    else:\n",
    "        print(\"No images or masks found!\")\n",
    "\n",
    "    # 确保新路径正确创建\n",
    "    print(\"New Path Exists:\", os.path.exists(new_full_path))\n",
    "    print(\"Test Folder Exists:\", os.path.exists(os.path.join(new_full_path, \"test\", \"images/\")))\n",
    "\n",
    "    # 测试保存功能\n",
    "    test_image = np.ones((256, 256, 3), dtype=np.uint8) * 255\n",
    "    test_mask = np.zeros((256, 256), dtype=np.uint8)\n",
    "    test_image_path = os.path.join(new_full_path, \"test_image.jpg\")\n",
    "    test_mask_path = os.path.join(new_full_path, \"test_mask.jpg\")\n",
    "\n",
    "    status1 = cv2.imwrite(test_image_path, test_image)\n",
    "    status2 = cv2.imwrite(test_mask_path, test_mask)\n",
    "\n",
    "    print(\"Test Image Saved:\", status1, os.path.exists(test_image_path))\n",
    "    print(\"Test Mask Saved:\", status2, os.path.exists(test_mask_path))\n"
   ]
  },
  {
   "cell_type": "markdown",
   "metadata": {},
   "source": [
    "process_image.py 对Training dataset做的augmentation很猛，一张图片对应30个augmentation\n",
    "\n",
    "sample dataset\n",
    "- size: 256*256"
   ]
  }
 ],
 "metadata": {
  "kernelspec": {
   "display_name": "pytorch",
   "language": "python",
   "name": "python3"
  },
  "language_info": {
   "codemirror_mode": {
    "name": "ipython",
    "version": 3
   },
   "file_extension": ".py",
   "mimetype": "text/x-python",
   "name": "python",
   "nbconvert_exporter": "python",
   "pygments_lexer": "ipython3",
   "version": "3.10.16"
  }
 },
 "nbformat": 4,
 "nbformat_minor": 2
}
